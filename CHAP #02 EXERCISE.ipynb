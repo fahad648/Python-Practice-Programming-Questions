{
 "cells": [
  {
   "cell_type": "markdown",
   "metadata": {},
   "source": [
    "# EXERCISE 2.11:"
   ]
  },
  {
   "cell_type": "code",
   "execution_count": 1,
   "metadata": {},
   "outputs": [
    {
     "name": "stdout",
     "output_type": "stream",
     "text": [
      "-28\n"
     ]
    }
   ],
   "source": [
    "#A\n",
    "sum_negative=(-7)+(-6)+(-5)+(-4)+(-3)+(-2)+(-1)\n",
    "print(sum_negative)\n"
   ]
  },
  {
   "cell_type": "code",
   "execution_count": 6,
   "metadata": {},
   "outputs": [
    {
     "name": "stdout",
     "output_type": "stream",
     "text": [
      "32.4\n"
     ]
    }
   ],
   "source": [
    "#B\n",
    "total_groups=5\n",
    "average_age=9+10+11+12/total_groups\n",
    "print(average_age)"
   ]
  },
  {
   "cell_type": "code",
   "execution_count": 7,
   "metadata": {},
   "outputs": [
    {
     "name": "stdout",
     "output_type": "stream",
     "text": [
      "9.5367431640625e-07\n"
     ]
    }
   ],
   "source": [
    "#C\n",
    "x=2**-20\n",
    "print(x)"
   ]
  },
  {
   "cell_type": "code",
   "execution_count": 11,
   "metadata": {},
   "outputs": [
    {
     "name": "stdout",
     "output_type": "stream",
     "text": [
      "The umber of times 61 goes into 4356 is :  71\n"
     ]
    }
   ],
   "source": [
    "#D\n",
    "z=int(4356/61)\n",
    "print('The umber of times 61 goes into 4356 is : ',z)\n"
   ]
  },
  {
   "cell_type": "code",
   "execution_count": 10,
   "metadata": {},
   "outputs": [
    {
     "name": "stdout",
     "output_type": "stream",
     "text": [
      "The reaminder is :  25\n"
     ]
    }
   ],
   "source": [
    "#E\n",
    "y=4356%61\n",
    "print('The reaminder is : ',y)"
   ]
  },
  {
   "cell_type": "markdown",
   "metadata": {},
   "source": [
    "# EXERCISE 2.12:"
   ]
  },
  {
   "cell_type": "code",
   "execution_count": 12,
   "metadata": {},
   "outputs": [
    {
     "name": "stdout",
     "output_type": "stream",
     "text": [
      "-+\n"
     ]
    }
   ],
   "source": [
    "#A\n",
    "s1='-'\n",
    "s2='+'\n",
    "x=s1+s2\n",
    "print(x)\n"
   ]
  },
  {
   "cell_type": "code",
   "execution_count": 13,
   "metadata": {},
   "outputs": [
    {
     "name": "stdout",
     "output_type": "stream",
     "text": [
      "-+-\n"
     ]
    }
   ],
   "source": [
    "#B\n",
    "s1='-'\n",
    "s2='+'\n",
    "x=s1+s2+s1\n",
    "print(x)"
   ]
  },
  {
   "cell_type": "code",
   "execution_count": 14,
   "metadata": {},
   "outputs": [
    {
     "name": "stdout",
     "output_type": "stream",
     "text": [
      "+--\n"
     ]
    }
   ],
   "source": [
    "#C\n",
    "s1='-'\n",
    "s2='+'\n",
    "x=s2+(s1*2)\n",
    "print(x)"
   ]
  },
  {
   "cell_type": "code",
   "execution_count": 16,
   "metadata": {},
   "outputs": [
    {
     "name": "stdout",
     "output_type": "stream",
     "text": [
      "+--+--\n"
     ]
    }
   ],
   "source": [
    "#D\n",
    "s1='-'\n",
    "s2='+'\n",
    "x=(s2+(s1*2))*2\n",
    "print(x)"
   ]
  },
  {
   "cell_type": "code",
   "execution_count": 17,
   "metadata": {},
   "outputs": [
    {
     "name": "stdout",
     "output_type": "stream",
     "text": [
      "+--+--+--+--+--+--+--+--+--+--+--\n"
     ]
    }
   ],
   "source": [
    "#E\n",
    "s1='-'\n",
    "s2='+'\n",
    "x=(s2+(s1*2))*11\n",
    "print(x)"
   ]
  },
  {
   "cell_type": "code",
   "execution_count": 18,
   "metadata": {},
   "outputs": [
    {
     "name": "stdout",
     "output_type": "stream",
     "text": [
      "+-+++--+-+++--+-+++--+-+++--+-+++--\n"
     ]
    }
   ],
   "source": [
    "#F\n",
    "s1='-'\n",
    "s2='+'\n",
    "x=(s2+s1+(s2*3)+(s1*2))*5\n",
    "print(x)"
   ]
  },
  {
   "cell_type": "markdown",
   "metadata": {},
   "source": [
    "# EXERCISE 2.13:"
   ]
  },
  {
   "cell_type": "code",
   "execution_count": 19,
   "metadata": {},
   "outputs": [
    {
     "name": "stdout",
     "output_type": "stream",
     "text": [
      "a\n"
     ]
    }
   ],
   "source": [
    "#A\n",
    "s='abcdefghijklmnopqrstuvwxyz'\n",
    "index=s[0]\n",
    "print(index)"
   ]
  },
  {
   "cell_type": "code",
   "execution_count": 20,
   "metadata": {},
   "outputs": [
    {
     "name": "stdout",
     "output_type": "stream",
     "text": [
      "c\n"
     ]
    }
   ],
   "source": [
    "#B\n",
    "s='abcdefghijklmnopqrstuvwxyz'\n",
    "index_c=s[2]\n",
    "print(index_c)"
   ]
  },
  {
   "cell_type": "code",
   "execution_count": 21,
   "metadata": {},
   "outputs": [
    {
     "name": "stdout",
     "output_type": "stream",
     "text": [
      "z\n"
     ]
    }
   ],
   "source": [
    "#C\n",
    "s='abcdefghijklmnopqrstuvwxyz'\n",
    "index_z=s[25]\n",
    "print(index_z)\n",
    "         "
   ]
  },
  {
   "cell_type": "code",
   "execution_count": 22,
   "metadata": {},
   "outputs": [
    {
     "name": "stdout",
     "output_type": "stream",
     "text": [
      "y\n"
     ]
    }
   ],
   "source": [
    "#D\n",
    "s='abcdefghijklmnopqrstuvwxyz'\n",
    "index_y=s[24]\n",
    "print(index_y)"
   ]
  },
  {
   "cell_type": "code",
   "execution_count": 24,
   "metadata": {},
   "outputs": [
    {
     "name": "stdout",
     "output_type": "stream",
     "text": [
      "q\n"
     ]
    }
   ],
   "source": [
    "#E\n",
    "s='abcdefghijklmnopqrstuvwxyz'\n",
    "index_q=s[16]\n",
    "print(index_q)"
   ]
  },
  {
   "cell_type": "markdown",
   "metadata": {},
   "source": [
    "# EXERCISE 2.14:"
   ]
  },
  {
   "cell_type": "code",
   "execution_count": 26,
   "metadata": {},
   "outputs": [
    {
     "name": "stdout",
     "output_type": "stream",
     "text": [
      "True\n"
     ]
    }
   ],
   "source": [
    "#A\n",
    "s='goodbye'\n",
    "x=s[0]=='g'\n",
    "print(x)"
   ]
  },
  {
   "cell_type": "code",
   "execution_count": 27,
   "metadata": {},
   "outputs": [
    {
     "name": "stdout",
     "output_type": "stream",
     "text": [
      "False\n"
     ]
    }
   ],
   "source": [
    "#B\n",
    "s='goodbye'\n",
    "x=s[6]=='g'\n",
    "print(x)\n"
   ]
  },
  {
   "cell_type": "code",
   "execution_count": 29,
   "metadata": {},
   "outputs": [
    {
     "name": "stdout",
     "output_type": "stream",
     "text": [
      "False\n"
     ]
    }
   ],
   "source": [
    "#C\n",
    "s='goodbye'\n",
    "x=s[0]=='g' and s[1]=='a'\n",
    "print(x)"
   ]
  },
  {
   "cell_type": "code",
   "execution_count": 30,
   "metadata": {},
   "outputs": [
    {
     "name": "stdout",
     "output_type": "stream",
     "text": [
      "False\n"
     ]
    }
   ],
   "source": [
    "#D\n",
    "s='goodbye'\n",
    "x=s[5]=='x'\n",
    "print(x)"
   ]
  },
  {
   "cell_type": "code",
   "execution_count": 31,
   "metadata": {},
   "outputs": [
    {
     "name": "stdout",
     "output_type": "stream",
     "text": [
      "True\n"
     ]
    }
   ],
   "source": [
    "#E\n",
    "s='goodbye'\n",
    "x=s[3]=='d'\n",
    "print(x)"
   ]
  },
  {
   "cell_type": "code",
   "execution_count": 33,
   "metadata": {},
   "outputs": [
    {
     "name": "stdout",
     "output_type": "stream",
     "text": [
      "False\n"
     ]
    }
   ],
   "source": [
    "#F\n",
    "s='goodbye'\n",
    "x=s[0]==s[6]\n",
    "print(x)"
   ]
  },
  {
   "cell_type": "code",
   "execution_count": 34,
   "metadata": {},
   "outputs": [
    {
     "name": "stdout",
     "output_type": "stream",
     "text": [
      "False\n"
     ]
    }
   ],
   "source": [
    "#G\n",
    "s='goodbye'\n",
    "x=s[3-6]=='tion'\n",
    "print(x)"
   ]
  },
  {
   "cell_type": "markdown",
   "metadata": {},
   "source": [
    "# EXERCISE 2.15:"
   ]
  },
  {
   "cell_type": "code",
   "execution_count": 52,
   "metadata": {},
   "outputs": [],
   "source": [
    "A=['anachronistically']\n",
    "B=['counterintuitive']\n",
    "A_len=len(A)\n",
    "B_len=len(B)\n",
    "diff=abs(len(A)-len(B))\n",
    "if A_len>B_len:\n",
    "    print('The word anachronistically have',diff, 'word greater than counterinitutive')\n",
    "    "
   ]
  },
  {
   "cell_type": "code",
   "execution_count": 60,
   "metadata": {},
   "outputs": [
    {
     "name": "stdout",
     "output_type": "stream",
     "text": [
      "count the elements..\n"
     ]
    }
   ],
   "source": [
    "A=['anachronistically']\n",
    "B=['counterintuitive']\n",
    "Alen=len(A)\n",
    "Blen=len(B)\n",
    "diff=abs(Alen-Blen)\n",
    "if Alen>Blen:\n",
    "    print('The word anachronistically have',diff, 'word greater than counterinitutive')\n",
    "print('count the elements..')"
   ]
  },
  {
   "cell_type": "markdown",
   "metadata": {},
   "source": [
    "# EXERCISE 2.16:"
   ]
  },
  {
   "cell_type": "code",
   "execution_count": 61,
   "metadata": {},
   "outputs": [
    {
     "name": "stdout",
     "output_type": "stream",
     "text": [
      "9.5\n"
     ]
    }
   ],
   "source": [
    "#A,B\n",
    "a=6\n",
    "b=7\n",
    "c=a+b/2\n",
    "print(c)"
   ]
  },
  {
   "cell_type": "code",
   "execution_count": null,
   "metadata": {},
   "outputs": [],
   "source": [
    "#C\n",
    "x=['paper','staples','pencil']"
   ]
  },
  {
   "cell_type": "code",
   "execution_count": 62,
   "metadata": {},
   "outputs": [
    {
     "name": "stdout",
     "output_type": "stream",
     "text": [
      "John Fitzgerald Kennedy\n"
     ]
    }
   ],
   "source": [
    "#D,E\n",
    "a='John'\n",
    "b='Fitzgerald'\n",
    "c='Kennedy'\n",
    "x=a+' '+b+' '+c\n",
    "print(x)"
   ]
  },
  {
   "cell_type": "markdown",
   "metadata": {},
   "source": [
    "# EXECISE 2.17"
   ]
  },
  {
   "cell_type": "code",
   "execution_count": 63,
   "metadata": {},
   "outputs": [
    {
     "name": "stdout",
     "output_type": "stream",
     "text": [
      "True\n"
     ]
    }
   ],
   "source": [
    "#A\n",
    "sum=17+(-9)<10\n",
    "print(sum)"
   ]
  },
  {
   "cell_type": "code",
   "execution_count": 65,
   "metadata": {},
   "outputs": [
    {
     "name": "stdout",
     "output_type": "stream",
     "text": [
      "False\n"
     ]
    }
   ],
   "source": [
    "#B\n",
    "lst=['John','Fitzgerald','Kennedy']\n",
    "string='John Fitzgerald Kennedy'\n",
    "x=len(lst)*5==len(string)\n",
    "print(x)"
   ]
  },
  {
   "cell_type": "code",
   "execution_count": 66,
   "metadata": {},
   "outputs": [
    {
     "name": "stdout",
     "output_type": "stream",
     "text": [
      "['John', 6.75, 'Fitzgerald']\n"
     ]
    }
   ],
   "source": [
    "#D\n",
    "x=[a,6.75,b]\n",
    "print(x)\n"
   ]
  },
  {
   "cell_type": "code",
   "execution_count": 67,
   "metadata": {},
   "outputs": [
    {
     "name": "stdout",
     "output_type": "stream",
     "text": [
      "Length of b is more than a.. True\n",
      "Length of b is less than length of c.. False\n"
     ]
    }
   ],
   "source": [
    "#E\n",
    "lenA=len(a)\n",
    "lenB=len(b)\n",
    "lenC=len(c)\n",
    "x=lenB>lenA\n",
    "print('Length of b is more than a..',x)\n",
    "y=lenB<lenC\n",
    "print('Length of b is less than length of c..',y)"
   ]
  },
  {
   "cell_type": "code",
   "execution_count": 70,
   "metadata": {},
   "outputs": [
    {
     "name": "stdout",
     "output_type": "stream",
     "text": [
      "Niether the list is empty nor contains 10 elements.\n"
     ]
    }
   ],
   "source": [
    "#F\n",
    "lst=['John','Fitzgerald','Kennedy']\n",
    "len_lst=len(lst)\n",
    "if len_lst==0:\n",
    "    print('The list is empty.')\n",
    "elif len_lst==10:\n",
    "        print('The list contains 10 elements.')\n",
    "        \n",
    "print('Niether the list is empty nor contains 10 elements.')"
   ]
  },
  {
   "cell_type": "markdown",
   "metadata": {},
   "source": [
    "# EXERCISE 2.18"
   ]
  },
  {
   "cell_type": "code",
   "execution_count": 71,
   "metadata": {},
   "outputs": [
    {
     "name": "stdout",
     "output_type": "stream",
     "text": [
      "False\n"
     ]
    }
   ],
   "source": [
    "#A,B\n",
    "flowers=['rose','bougaincillea','yucca','marigold','daylilly','lilly of the valley']\n",
    "x='potato' in flowers\n",
    "print(x)"
   ]
  },
  {
   "cell_type": "code",
   "execution_count": 72,
   "metadata": {},
   "outputs": [
    {
     "name": "stdout",
     "output_type": "stream",
     "text": [
      "['rose', 'bougaincillea', 'yucca', 'lilly of valley']\n"
     ]
    }
   ],
   "source": [
    "#C,D,E\n",
    "thorny=['rose','bougaincillea','yucca']\n",
    "poisonous=['lilly of valley']\n",
    "dangerous=thorny+poisonous\n",
    "print(dangerous)\n"
   ]
  },
  {
   "cell_type": "markdown",
   "metadata": {},
   "source": [
    "# EXERCISE 2.19:"
   ]
  },
  {
   "cell_type": "code",
   "execution_count": 6,
   "metadata": {},
   "outputs": [
    {
     "name": "stdout",
     "output_type": "stream",
     "text": [
      "The number of occurence of Yes is :  5\n"
     ]
    }
   ],
   "source": [
    "#A\n",
    "answers = ['Y','N','N','Y','N','Y','Y','Y','N','N','N']\n",
    "numYes= answers.count('Y')\n",
    "print('The number of occurence of Yes is : ',numYes)             "
   ]
  },
  {
   "cell_type": "code",
   "execution_count": 5,
   "metadata": {},
   "outputs": [
    {
     "name": "stdout",
     "output_type": "stream",
     "text": [
      "The number of occurence of no is :  6\n"
     ]
    }
   ],
   "source": [
    "#B\n",
    "answers = ['Y','N','N','Y','N','Y','Y','Y','N','N','N']\n",
    "numNo=answers.count('N')\n",
    "print('The number of occurence of no is : ',numNo)"
   ]
  },
  {
   "cell_type": "code",
   "execution_count": 7,
   "metadata": {},
   "outputs": [
    {
     "name": "stdout",
     "output_type": "stream",
     "text": [
      "45.45454545454545\n"
     ]
    }
   ],
   "source": [
    "answers = ['Y','N','N','Y','N','Y','Y','Y','N','N','N']\n",
    "x=answers.count('Y')\n",
    "percentageYes=(x*100)/11\n",
    "print(percentageYes)"
   ]
  },
  {
   "cell_type": "code",
   "execution_count": 9,
   "metadata": {},
   "outputs": [
    {
     "name": "stdout",
     "output_type": "stream",
     "text": [
      "<built-in method sort of list object at 0x0000002BCC9CDE88>\n"
     ]
    }
   ],
   "source": [
    "answers = ['Y','N','N','Y','N','Y','Y','Y','N','N','N']\n",
    "x=answers.sort\n",
    "print(x)"
   ]
  },
  {
   "cell_type": "code",
   "execution_count": 10,
   "metadata": {},
   "outputs": [
    {
     "name": "stdout",
     "output_type": "stream",
     "text": [
      "('Y', 'Y', 'Y', 'Y', 'Y')\n"
     ]
    }
   ],
   "source": [
    "answers = ['Y','N','N','Y','N','Y','Y','Y','N','N','N']\n",
    "f=answers[0],answers[3],answers[5],answers[6],answers[7]\n",
    "print(f)"
   ]
  },
  {
   "cell_type": "markdown",
   "metadata": {},
   "source": [
    "# EXERCISE 2.20:"
   ]
  },
  {
   "cell_type": "code",
   "execution_count": 43,
   "metadata": {},
   "outputs": [
    {
     "name": "stdout",
     "output_type": "stream",
     "text": [
      "['t', 'o', 'p']\n"
     ]
    }
   ],
   "source": [
    "lst=['p','o','t']\n",
    "lst.reverse()\n",
    "print(lst)"
   ]
  },
  {
   "cell_type": "markdown",
   "metadata": {},
   "source": [
    "# EXERCISE 2.21:"
   ]
  },
  {
   "cell_type": "code",
   "execution_count": 22,
   "metadata": {},
   "outputs": [
    {
     "name": "stdout",
     "output_type": "stream",
     "text": [
      "LP\n"
     ]
    }
   ],
   "source": [
    "s='L'\n",
    "t='P'\n",
    "z=s+t\n",
    "print(z)"
   ]
  },
  {
   "cell_type": "markdown",
   "metadata": {},
   "source": [
    "# EXERCISE 2.22:"
   ]
  },
  {
   "cell_type": "code",
   "execution_count": 23,
   "metadata": {},
   "outputs": [
    {
     "name": "stdout",
     "output_type": "stream",
     "text": [
      "14\n"
     ]
    }
   ],
   "source": [
    "lst_num=[3,7,-2,12]\n",
    "diff=max(lst_num)-min(lst_num)\n",
    "print(diff)"
   ]
  },
  {
   "cell_type": "markdown",
   "metadata": {},
   "source": [
    "# EXERCISE 2.23:"
   ]
  },
  {
   "cell_type": "code",
   "execution_count": 31,
   "metadata": {},
   "outputs": [
    {
     "name": "stdout",
     "output_type": "stream",
     "text": [
      "['jan', 'feb', 'mar', 'apr', 'may']\n"
     ]
    }
   ],
   "source": [
    "#A\n",
    "monthsL=['jan','feb','mar','may']\n",
    "monthsT=('jan','feb','mar','may')\n",
    "monthsL.insert(3,'apr')\n",
    "print(monthsL)"
   ]
  },
  {
   "cell_type": "code",
   "execution_count": 33,
   "metadata": {},
   "outputs": [
    {
     "name": "stdout",
     "output_type": "stream",
     "text": [
      "['jan', 'feb', 'mar', 'may', 'jun']\n"
     ]
    }
   ],
   "source": [
    "#B\n",
    "monthsL=['jan','feb','mar','may']\n",
    "monthsL.append('jun')\n",
    "print(monthsL)"
   ]
  },
  {
   "cell_type": "code",
   "execution_count": 34,
   "metadata": {},
   "outputs": [
    {
     "name": "stdout",
     "output_type": "stream",
     "text": [
      "['jan', 'feb', 'mar']\n"
     ]
    }
   ],
   "source": [
    "#C\n",
    "monthsL=['jan','feb','mar','may']\n",
    "monthsL.pop()\n",
    "print(monthsL)\n",
    "\n"
   ]
  },
  {
   "cell_type": "code",
   "execution_count": 36,
   "metadata": {},
   "outputs": [
    {
     "name": "stdout",
     "output_type": "stream",
     "text": [
      "['jan', 'mar', 'may']\n"
     ]
    }
   ],
   "source": [
    "#D\n",
    "monthsL=['jan','feb','mar','may']\n",
    "monthsL.remove('feb')\n",
    "print(monthsL)"
   ]
  },
  {
   "cell_type": "code",
   "execution_count": 37,
   "metadata": {},
   "outputs": [
    {
     "name": "stdout",
     "output_type": "stream",
     "text": [
      "['may', 'mar', 'feb', 'jan']\n"
     ]
    }
   ],
   "source": [
    "#E\n",
    "monthsL=['jan','feb','mar','may']\n",
    "monthsL.reverse()\n",
    "print(monthsL)"
   ]
  },
  {
   "cell_type": "code",
   "execution_count": 44,
   "metadata": {},
   "outputs": [
    {
     "name": "stdout",
     "output_type": "stream",
     "text": [
      "['feb', 'jan', 'mar', 'may']\n"
     ]
    }
   ],
   "source": [
    "#F\n",
    "monthsL=['jan','feb','mar','may']\n",
    "monthsL.sort()\n",
    "print(monthsL)"
   ]
  },
  {
   "cell_type": "markdown",
   "metadata": {},
   "source": [
    "# EXERCISE 2.24:"
   ]
  },
  {
   "cell_type": "code",
   "execution_count": 45,
   "metadata": {},
   "outputs": [
    {
     "name": "stdout",
     "output_type": "stream",
     "text": [
      "[4, 4, 2, 2, 1]\n"
     ]
    }
   ],
   "source": [
    "grades=['B','B','F','C','B','A','A','D','C','D','A','A','B']\n",
    "count_A=grades.count('A')\n",
    "count_B=grades.count('B')\n",
    "count_C=grades.count('C')\n",
    "count_D=grades.count('D')\n",
    "count_F=grades.count('F')\n",
    "grades_count=[count_A,count_B,count_C,count_D,count_F]\n",
    "print(grades_count)"
   ]
  },
  {
   "cell_type": "markdown",
   "metadata": {},
   "source": [
    "# EXERCISE 2.25:"
   ]
  },
  {
   "cell_type": "code",
   "execution_count": 46,
   "metadata": {},
   "outputs": [
    {
     "name": "stdout",
     "output_type": "stream",
     "text": [
      "(4, 4, 2, 2, 1)\n"
     ]
    }
   ],
   "source": [
    "grades=('B','B','F','C','B','A','A','D','C','D','A','A','B')\n",
    "count_A=grades.count('A')\n",
    "count_B=grades.count('B')\n",
    "count_C=grades.count('C')\n",
    "count_D=grades.count('D')\n",
    "count_F=grades.count('F')\n",
    "grades_count=(count_A,count_B,count_C,count_D,count_F)\n",
    "print(grades_count)\n",
    "\n"
   ]
  },
  {
   "cell_type": "markdown",
   "metadata": {},
   "source": [
    "# EXERCISE 2.27:"
   ]
  },
  {
   "cell_type": "code",
   "execution_count": 53,
   "metadata": {},
   "outputs": [
    {
     "name": "stdout",
     "output_type": "stream",
     "text": [
      "Enter the length of the ladder : 16\n",
      "Enter the angle made by the ladder : 75\n",
      "The height of the ladder is :  15.455515858074026\n"
     ]
    }
   ],
   "source": [
    "import math\n",
    "l=eval(input('Enter the length of the ladder : '))\n",
    "ang=eval(input('Enter the angle made by the ladder : '))\n",
    "pi=3.142\n",
    "rad=(pi*ang)/180\n",
    "height=l*math.sin(rad)\n",
    "print('The height of the ladder is : ',height)\n",
    "\n"
   ]
  },
  {
   "cell_type": "markdown",
   "metadata": {},
   "source": [
    "# EXERCISE 2.28:"
   ]
  },
  {
   "cell_type": "code",
   "execution_count": 77,
   "metadata": {},
   "outputs": [
    {
     "name": "stdout",
     "output_type": "stream",
     "text": [
      "There are two middle elemets having index  3.0 and 4.0\n"
     ]
    }
   ],
   "source": [
    "#A\n",
    "lst=[1,3,5,7,9]\n",
    "len_lst=len(lst)\n",
    "if len_lst%2==1:\n",
    "    index_mid1=(len_lst+1)/2\n",
    "    index_mid2=(len_lst+3)/2\n",
    "    print('There are two middle elemets having index ',index_mid1,'and',index_mid2)\n",
    "else:\n",
    "    len_lst%2==0\n",
    "    index_mid=(len_lst+2)\n",
    "    print('The index of middle element is : ',index_mid)"
   ]
  },
  {
   "cell_type": "code",
   "execution_count": 68,
   "metadata": {},
   "outputs": [
    {
     "name": "stdout",
     "output_type": "stream",
     "text": [
      "4.0\n"
     ]
    }
   ],
   "source": [
    "#B\n",
    "lst=[1,2,3,4,5,6,7]\n",
    "mid_element=(sum(lst)/7)\n",
    "print(mid_element)"
   ]
  },
  {
   "cell_type": "code",
   "execution_count": 70,
   "metadata": {},
   "outputs": [
    {
     "name": "stdout",
     "output_type": "stream",
     "text": [
      "[0, 1, 2, 3, 4, 5, 6, 7, 8, 9]\n"
     ]
    }
   ],
   "source": [
    "#C\n",
    "lst=[9,8,7,6,5,4,3,2,1,0]\n",
    "lst.reverse()\n",
    "print(lst)"
   ]
  },
  {
   "cell_type": "code",
   "execution_count": 71,
   "metadata": {},
   "outputs": [
    {
     "name": "stdout",
     "output_type": "stream",
     "text": [
      "[2, 3, 4, 5, 1]\n"
     ]
    }
   ],
   "source": [
    "#D\n",
    "lst=[1,2,3,4,5]\n",
    "lst.remove(1)\n",
    "lst.append(1)\n",
    "print(lst)"
   ]
  },
  {
   "cell_type": "markdown",
   "metadata": {},
   "source": [
    "# EXERCISE 2.29:"
   ]
  }
 ],
 "metadata": {
  "kernelspec": {
   "display_name": "Python 3",
   "language": "python",
   "name": "python3"
  },
  "language_info": {
   "codemirror_mode": {
    "name": "ipython",
    "version": 3
   },
   "file_extension": ".py",
   "mimetype": "text/x-python",
   "name": "python",
   "nbconvert_exporter": "python",
   "pygments_lexer": "ipython3",
   "version": "3.7.4"
  }
 },
 "nbformat": 4,
 "nbformat_minor": 2
}
